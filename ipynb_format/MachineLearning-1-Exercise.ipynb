{
 "cells": [
  {
   "cell_type": "markdown",
   "metadata": {},
   "source": [
    "***\n",
    "\n",
    "## MachineLearning 第一课作业\n",
    "\n",
    "####  作业提交说明：\n",
    "- 位置：作业文件统一放置于/0.Teacher/Exercise/MachineLearning-1/下\n",
    "- 文件名：请先复制该notebook文件，并重新命名为(课程名)+(您姓名的全拼)，并按要求完成后保存\n",
    "- 时间：课程结束后的第二天前提交。\n",
    "- 注意：请勿抄袭，移动，修改，删除其他同学和原始空白的练习文件。\n",
    "***"
   ]
  },
  {
   "cell_type": "markdown",
   "metadata": {},
   "source": [
    "## 简答题"
   ]
  },
  {
   "cell_type": "markdown",
   "metadata": {},
   "source": [
    "#### 1.数据挖掘，机器学习工程师，算法工程师，数据科学家，这些酷酷的岗位名字是认真的？说说你的理解这些岗位实际在做些什么？"
   ]
  },
  {
   "cell_type": "markdown",
   "metadata": {},
   "source": [
    "这些岗位都是机器学习应用的岗位。\n",
    "主要负责：数据分析、特征工程、选择模型、拟合数据、模型优化、上线等。"
   ]
  },
  {
   "cell_type": "markdown",
   "metadata": {},
   "source": [
    "#### 2.常见的机器学习任务有哪几大类别，具体说说每个类别又有哪些应用？"
   ]
  },
  {
   "cell_type": "markdown",
   "metadata": {},
   "source": [
    "1、监督学习：有标签的学习任务，大致可分为分类（预测的结果是离散的，例如预测明天天气-阴，晴，雨）和回归（预测的结果是连续的，例如预测明天的温度，23，24，25度）两类问题。<br>\n",
    "2、无监督学习：无标签的学习任务，主要使用聚类算法，无监督学习任务的目标是发现这组数据中的特殊结构，比如要通过对DNA做聚合来区分不同的人种。<br>\n",
    "3、强化学习：在交互环境中，智能体利用自身的经验和反馈，通过试验和错误经验来进行学习，马尔可夫决策过程（MDP）是所有强化学习环境的数学框架,Q-learning和SARSA是两种最常见的不理解环境强化学习算法。<br>"
   ]
  },
  {
   "cell_type": "markdown",
   "metadata": {},
   "source": [
    "#### 3.机器学习的学习策略大致可分为有监督学习与无监督学习，请谈谈您对这两类策略的认识。"
   ]
  },
  {
   "cell_type": "markdown",
   "metadata": {},
   "source": [
    "有监督学习：数据集是有标签的，有明确的目标，有输入有输出。可以根据标签是离散的还是连续的分为：分类问题和回归问题。<br>\n",
    "无监督学习：数据集没有标签，目标是发现这组数据中的特殊结构。"
   ]
  },
  {
   "cell_type": "markdown",
   "metadata": {},
   "source": [
    "#### 4.列举你所知道的机器学习任务中的一些术语并给出解释。（例如，特征，标签，训练等）"
   ]
  },
  {
   "cell_type": "markdown",
   "metadata": {},
   "source": [
    "特征：feature，输入变量，用于做出预测<br>\n",
    "标签：label，在监督式学习中，样本的「答案」或「结果」。标注数据集中的每个样本包含一或多个特征和一个标签。比如，在房屋数据集中，特征可能包括卧室数量、卫生间数量、房龄，而标签可能就是房子的价格。在垃圾邮件检测数据集中，特征可能包括主题、发出者何邮件本身，而标签可能是「垃圾邮件」或「非垃圾邮件」<br>\n",
    "训练：training，确定组成模型的完美参数的流程。<br>\n",
    "[mark](https://www.cnblogs.com/gbin1/p/7735075.html)"
   ]
  },
  {
   "cell_type": "markdown",
   "metadata": {},
   "source": [
    "#### 5.什么是损失函数？请写出回归任务中的均方误差的数学公式，并解释"
   ]
  },
  {
   "cell_type": "markdown",
   "metadata": {},
   "source": [
    "损失函数（Loss function）是用来估量你模型的预测值 f(x) 与真实值 Y 的不一致程度，它是一个非负实值函数，通常用 L(Y,f(x)) 来表示。损失函数越小，模型的鲁棒性就越好。<br>\n",
    "MSE(Mean Square Error) 平均平方差/均方误差是回归任务最常用的性能度量:<br>\n",
    "$$MSE=\\frac{1}{n}\\sum_{i=1}^n{(y_i- \\hat y_i)^2}$$\n",
    "是用真实值减去预测值，然后平方之后求和，最后求平均值。"
   ]
  },
  {
   "cell_type": "markdown",
   "metadata": {},
   "source": [
    "#### 6.模型的泛化能力是指？"
   ]
  },
  {
   "cell_type": "markdown",
   "metadata": {},
   "source": [
    "指模型利用新的没见过的数据而不是用于训练的数据作出正确的预测的能力"
   ]
  },
  {
   "cell_type": "markdown",
   "metadata": {},
   "source": [
    "#### 7.请给出查准率与查全率的公式和解释"
   ]
  },
  {
   "cell_type": "markdown",
   "metadata": {},
   "source": [
    "$$Precision=\\frac{TP}{TP+FP}$$\n",
    "\n",
    "$$Recall=\\frac{TP}{TP+FN}$$\n",
    "\n",
    "$$F-Score=\\frac{(\\beta^2+1)PR}{\\beta^2P+R}$$\n",
    "\n",
    "precision代表所有分类为正样本的结果中分类正确的比例。<br>\n",
    "recall=TPR，代表所有正样本被正确分类的比例，即召回的比例。<br>\n",
    "F-Score就是 Precision和 Recall的加权调和平均"
   ]
  },
  {
   "cell_type": "markdown",
   "metadata": {},
   "source": [
    "#### 8.为什么要为模型添加正则化项？"
   ]
  },
  {
   "cell_type": "markdown",
   "metadata": {},
   "source": [
    "作为损失函数的一部分来对函数进行约束，从而防止过拟合。"
   ]
  },
  {
   "cell_type": "markdown",
   "metadata": {},
   "source": [
    "### 代码题：\n",
    "#### 1.请实现一个可以接收向量输入softmax分类器\n",
    "- 注：不使用Numpy库"
   ]
  },
  {
   "cell_type": "code",
   "execution_count": 25,
   "metadata": {},
   "outputs": [
    {
     "data": {
      "text/plain": [
       "array([0.04137845, 0.3057477 , 0.3057477 , 0.04137845, 0.3057477 ])"
      ]
     },
     "execution_count": 25,
     "metadata": {},
     "output_type": "execute_result"
    }
   ],
   "source": [
    "import scipy as sp\n",
    "def softmax_classifier(vector):\n",
    "    return sp.exp(vector)/sum(sp.exp(vector))\n",
    "\n",
    "softmax_classifier([-1, 1, 1, -1, 1])"
   ]
  }
 ],
 "metadata": {
  "kernelspec": {
   "display_name": "Python 3",
   "language": "python",
   "name": "python3"
  },
  "language_info": {
   "codemirror_mode": {
    "name": "ipython",
    "version": 3
   },
   "file_extension": ".py",
   "mimetype": "text/x-python",
   "name": "python",
   "nbconvert_exporter": "python",
   "pygments_lexer": "ipython3",
   "version": "3.7.0"
  }
 },
 "nbformat": 4,
 "nbformat_minor": 2
}
